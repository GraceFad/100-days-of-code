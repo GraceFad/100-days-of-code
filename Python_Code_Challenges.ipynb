{
  "nbformat": 4,
  "nbformat_minor": 0,
  "metadata": {
    "colab": {
      "name": "Python Code Challenges",
      "provenance": [],
      "authorship_tag": "ABX9TyPeuYrICBL4HVm43XAEJQ9k",
      "include_colab_link": true
    },
    "kernelspec": {
      "name": "python3",
      "display_name": "Python 3"
    }
  },
  "cells": [
    {
      "cell_type": "markdown",
      "metadata": {
        "id": "view-in-github",
        "colab_type": "text"
      },
      "source": [
        "<a href=\"https://colab.research.google.com/github/GraceFad/100-days-of-code/blob/master/Python_Code_Challenges.ipynb\" target=\"_parent\"><img src=\"https://colab.research.google.com/assets/colab-badge.svg\" alt=\"Open In Colab\"/></a>"
      ]
    },
    {
      "cell_type": "markdown",
      "metadata": {
        "id": "7MtpX3qQGzJf",
        "colab_type": "text"
      },
      "source": [
        "#Python Code Challenges\n",
        ">This document is a run through of the solutions to the python code challenges gotten from Barron Stone's LinkedIn learning course - Python Code Challenges. "
      ]
    },
    {
      "cell_type": "markdown",
      "metadata": {
        "id": "kF12XtJKHjr1",
        "colab_type": "text"
      },
      "source": [
        "###Challenge 1: Find prime factors\n",
        ">The first challenge is defining a function to get the prime factors of any given integer, in this case, integer num.\n"
      ]
    },
    {
      "cell_type": "code",
      "metadata": {
        "id": "KjtXwZLh_uvb",
        "colab_type": "code",
        "colab": {}
      },
      "source": [
        "\n",
        "def get_prime_factors(num):\n",
        "  prime_numbers= [2, 3, 5, 7, 11, 13, 17, 19, 23, 29]\n",
        "  result =list()\n",
        "  for i in prime_numbers:\n",
        "    while (num>=i):\n",
        "      if (num% i) == 0:\n",
        "        result.append(i)\n",
        "        num = num/i\n",
        "      else:\n",
        "        i = i+ 1\n",
        "\n",
        "    return result\n",
        "    \n",
        "  \n"
      ],
      "execution_count": null,
      "outputs": []
    },
    {
      "cell_type": "code",
      "metadata": {
        "id": "wqTYyzrNEpZr",
        "colab_type": "code",
        "colab": {
          "base_uri": "https://localhost:8080/",
          "height": 34
        },
        "outputId": "29e9a088-d640-48fb-8311-7b5ba16723de"
      },
      "source": [
        "get_prime_factors(630)\n"
      ],
      "execution_count": null,
      "outputs": [
        {
          "output_type": "execute_result",
          "data": {
            "text/plain": [
              "[2, 3, 3, 5, 7]"
            ]
          },
          "metadata": {
            "tags": []
          },
          "execution_count": 20
        }
      ]
    },
    {
      "cell_type": "markdown",
      "metadata": {
        "id": "917OfYfYImJ6",
        "colab_type": "text"
      },
      "source": [
        "##Challenge 2: Identify a palindrome\n",
        "> This challenge is to write a Python function to determine if a given string is a palindrome\n",
        "> A  palindrome is a word or phrase that reads the same forwards as backwards"
      ]
    },
    {
      "cell_type": "code",
      "metadata": {
        "id": "sJ7ExH5oIRy0",
        "colab_type": "code",
        "colab": {}
      },
      "source": [
        "\n",
        "def is_palindrome(word):\n",
        "  word = word.casefold() #to change the case of the input word\n",
        "  new_word = reversed(word)\n",
        "  print(new_word)\n",
        "  if list(new_word)== list(word):\n",
        "    print('True')\n",
        "  else:\n",
        "    print('False')"
      ],
      "execution_count": null,
      "outputs": []
    },
    {
      "cell_type": "code",
      "metadata": {
        "id": "RlnzRYPgI7-C",
        "colab_type": "code",
        "colab": {
          "base_uri": "https://localhost:8080/",
          "height": 51
        },
        "outputId": "d17921b1-00c3-4d87-9050-0aad7842c607"
      },
      "source": [
        "is_palindrome('ali')"
      ],
      "execution_count": null,
      "outputs": [
        {
          "output_type": "stream",
          "text": [
            "<reversed object at 0x7f5b8dc9b7b8>\n",
            "False\n"
          ],
          "name": "stdout"
        }
      ]
    },
    {
      "cell_type": "code",
      "metadata": {
        "id": "3V_8TTTeKYjf",
        "colab_type": "code",
        "colab": {}
      },
      "source": [
        ""
      ],
      "execution_count": null,
      "outputs": []
    }
  ]
}